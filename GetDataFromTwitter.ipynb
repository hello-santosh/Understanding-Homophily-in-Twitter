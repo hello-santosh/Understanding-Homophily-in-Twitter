{
 "cells": [
  {
   "cell_type": "code",
   "execution_count": null,
   "id": "a1f44dca",
   "metadata": {},
   "outputs": [],
   "source": [
    "# Due to tweepy daily request limit the following code coundn't be executed.\n",
    "# But they where tested on a smaller request with few user and works as expected.\n",
    "\n",
    "import tweepy\n",
    "import json\n",
    "import csv  \n",
    "# API keys\n",
    "api_key = \"f2yvgnv2OA65h4FAMQXHopMqz\"\n",
    "api_secrets = \"CQIDIcxH8pjwUyve8EB7uFBJSHA6fWtEQhcMpXZKfRjo0srle7\"\n",
    "access_token = \"1565754535993217025-8sEPfWnXRimhTJBXqMIsm73GWS1BC9\"\n",
    "access_secret = \"ogH7SoQkKSowFXBUx51U6qZkSu9JliQ9fmU6KCJFA4LHl\"\n",
    " \n",
    "# Authenticate to Twitter\n",
    "auth = tweepy.OAuthHandler(api_key,api_secrets)\n",
    "auth.set_access_token(access_token,access_secret)\n",
    "api = tweepy.API(auth,wait_on_rate_limit=True)"
   ]
  },
  {
   "cell_type": "code",
   "execution_count": null,
   "id": "be89fc9e",
   "metadata": {},
   "outputs": [],
   "source": [
    "# Data extraction from twitter.\n",
    "# Crawl through 20 random follower of elonmusk and continue crawling for three layer\n",
    "# This will give us around 160000 userid list\n",
    "userIdList = open(\"userId.txt\", \"a\",encoding=\"utf-8\")\n",
    "for followers in tweepy.Cursor(api.get_followers, screen_name = 'elonmusk').items(20):\n",
    "    user_Id = followers._json.get('id_str') + '\\n'\n",
    "    userIdList.write(user_Id)\n",
    "    for firstCrawl in tweepy.Cursor(api.get_followers, user_id = user_Id).items(20):\n",
    "        user_Id_1 = firstCrawl._json.get('id_str') + '\\n'\n",
    "        userIdList.write(user_Id_1)\n",
    "        for secondCrawl in tweepy.Cursor(api.get_followers, user_id = user_Id_1).items(20):\n",
    "            user_Id_2 = firstCrawl._json.get('id_str') + '\\n'\n",
    "            userIdList.write(user_Id_2)\n",
    "            for thirdCrawl in tweepy.Cursor(api.get_followers, user_id = user_Id_2).items(20):\n",
    "                user_Id_3 = firstCrawl._json.get('id_str') + '\\n'\n",
    "                userIdList.write(user_Id_3)\n",
    "userIdList.close()\n",
    "\n",
    "# Reading the final user id list and getting the their features with user description, favorites, tweets etc.\n",
    "\n",
    "# Get user info, tweets, favorites and write them into a csv file.\n",
    "finalUserId = open('userId.txt', mode='r')\n",
    "header = ['user_info', 'favorites', 'hashTags', 'tweetText']\n",
    "with open('twitterData.csv', 'w', encoding='UTF8') as f:\n",
    "    writer = csv.writer(f)\n",
    "    writer.writerow(header)\n",
    "    for userId in finalUserId:ap\n",
    "        userInfo = api.get_user(user_id=userId)\n",
    "        for favorites in tweepy.Cursor(api.get_favorites, user_id=userId).items():\n",
    "            favoritesTweet = favorites._json\n",
    "        for tweet in tweepy.Cursor(api.user_timeline, user_id=userId, include_rts=True, tweet_mode= \"extended\").items():\n",
    "            hashTagMaps = tweet._json.get('entities').get('hashtags')\n",
    "            tweetText = tweet._json.get('full_text')\n",
    "        data = [userInfo,favoritesTweet,hashTagMaps,tweetText]\n",
    "        writer.writerow(data)\n",
    "        \n",
    "# Create edge list of all the user extracted\n",
    "header_edgeList = ['from', 'to']\n",
    "with open('twitterUserEdgeList.csv', 'w', encoding='UTF8') as f1:\n",
    "    writer = csv.writer(f1)\n",
    "    writer.writerow(header_edgeList)\n",
    "    for userId in finalUserId:\n",
    "        for userId_2 in finalUserId:\n",
    "            createEdge = api.exists_friendship(userId,userId_2) # if this returns true, create edge list of user id as graph node.\n",
    "            if (createEdge):\n",
    "                data = [userId, userId_2]\n",
    "                writer.writerow(data)\n",
    "\n",
    "\n",
    "# With this we will have the required data for our analysis of homophily in social network."
   ]
  }
 ],
 "metadata": {
  "kernelspec": {
   "display_name": "Python 3 (ipykernel)",
   "language": "python",
   "name": "python3"
  },
  "language_info": {
   "codemirror_mode": {
    "name": "ipython",
    "version": 3
   },
   "file_extension": ".py",
   "mimetype": "text/x-python",
   "name": "python",
   "nbconvert_exporter": "python",
   "pygments_lexer": "ipython3",
   "version": "3.9.13"
  }
 },
 "nbformat": 4,
 "nbformat_minor": 5
}
