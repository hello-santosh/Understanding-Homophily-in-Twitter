{
 "cells": [
  {
   "cell_type": "markdown",
   "id": "3d61e464",
   "metadata": {},
   "source": [
    "# In this program we intend to find out the homophilic characters between users of a same community."
   ]
  },
  {
   "cell_type": "code",
   "execution_count": 1,
   "id": "6edd85a0",
   "metadata": {},
   "outputs": [],
   "source": [
    "import networkx as nx \n",
    "import numpy as np\n",
    "import math\n",
    "from scipy.sparse.linalg import eigs\n",
    "from sklearn.cluster import KMeans\n",
    "import warnings\n",
    "warnings.filterwarnings(\"ignore\")"
   ]
  },
  {
   "cell_type": "code",
   "execution_count": 2,
   "id": "84b45c68",
   "metadata": {},
   "outputs": [],
   "source": [
    "G = nx.DiGraph()\n",
    "edge_file = open('data/edges.edges', mode='r')\n",
    "for rows in edge_file:\n",
    "    edges = rows.strip().split()\n",
    "    G.add_edge(int(edges[0]),int(edges[1]))\n",
    "edge_file.close()\n",
    "# Spectral clustering with and normalized cut approaches\n",
    "NL = nx.directed_laplacian_matrix(G, nodelist=None, weight=None)\n",
    "nvals, nvecs = eigs(NL.astype(float), k=2, which = 'SR')\n",
    "Xn = np.real(nvecs)\n",
    "nkmeans = KMeans(n_clusters=2).fit_predict(Xn)\n",
    "com1 = []\n",
    "com2 = []\n",
    "i = 0\n",
    "i = 0\n",
    "for nodes in nkmeans:\n",
    "    if( nodes == 0):\n",
    "        com1.append(i)\n",
    "    else:\n",
    "        com2.append(i)\n",
    "    i+=1"
   ]
  },
  {
   "cell_type": "code",
   "execution_count": 3,
   "id": "9889e800",
   "metadata": {},
   "outputs": [],
   "source": [
    "nodeList = list(G.nodes)\n",
    "nodeList1 = []\n",
    "nodeList2 = []\n",
    "for idx, nodes in enumerate(nodeList):\n",
    "    if(idx in com1):\n",
    "        nodeList1.append(nodes)\n",
    "    else:\n",
    "        nodeList2.append(nodes)"
   ]
  },
  {
   "cell_type": "code",
   "execution_count": 4,
   "id": "0744e0d7",
   "metadata": {},
   "outputs": [
    {
     "name": "stdout",
     "output_type": "stream",
     "text": [
      "Community one:  [99571358, 3440421, 85114893, 76642236, 87725109, 18433412, 90983105, 41605269, 64046315, 22988077, 21325880, 332803989, 33475281, 7908272, 32421348, 20970926, 674873, 16791717, 198157799, 34222931, 19962319, 21324483, 5647742, 14124529, 38901415, 100614511, 39614123, 324583691, 33456706, 45561740, 20697680, 43472595, 21076998, 80837233, 48463781, 16342093, 18218923, 23037256, 14892168, 37242870, 20765126, 21816442, 56375803, 1344951, 279510127, 16013055, 23917224, 133431061, 19677696, 39584643, 158862966, 189520887, 18024103, 20026604, 19254264, 20458823, 5876692, 26077872, 125996244, 217931270, 923811, 25701534, 18408647, 15646657, 37992666, 54971112, 33136115, 17111909, 39488895, 27663355, 74654261, 90366230, 118360338, 15787974, 14931514, 14745059, 20097342, 38347814, 15407619, 16440181, 16303106, 137982546, 14231756, 227775362, 108112311, 17678587, 18917281, 479965367, 390894197, 38062926, 15290730, 43192807, 21411794, 49072056, 20309234, 8464692, 18519756, 14884004, 26823762, 16452121, 11922692, 17058481, 10226092, 84662078, 37898592, 65294835, 69616335, 78011391, 22205493, 457382905, 241169348, 17789672, 118452478, 97743746, 18957524, 14497364, 68055854, 18977619, 65119655, 2890961, 26947525, 36876401, 119640284, 23839565, 745553, 801057, 1976611, 14230389, 16240539, 21556678, 14753987, 19647878, 20108560, 9268772, 1780551, 15247773, 36380242, 73872981, 15736190, 15936696, 48485771, 83731215, 133297907, 29237801, 21182763, 41421889, 42481418, 67013898, 25873356, 15608926, 23545799, 34050356, 42486688, 17235469, 35996307, 42598216, 86268045, 98513781, 20047103, 18176990, 22461427, 55619838, 24889529, 15619589, 23691649, 180613482, 55582579, 115335924, 66803871, 629463, 15379379, 6017542, 84534359, 23480504, 14337403, 156602922, 18253799, 34689980, 29249528, 8262112, 10221882, 24057172, 46509945, 55106945, 46443549, 14368459, 17194296, 15606086, 24202643, 84380914, 16630062, 87890922, 16002751, 15884394, 52551600, 52594536, 16464746, 64285972, 17039916, 14947962, 92433416, 27837808, 80048966, 73665172, 23019279, 9533592, 8559342, 24044278, 21199489, 19611483, 104601034, 169222878, 152101750, 18799695, 46423291, 151871519, 337761217, 7309052, 1652541, 41692369, 15390879, 17808081, 28659242, 25521487, 204879301, 757992, 87000843, 171548022, 102825413, 17454769, 50125207, 16740836, 151126075, 196560959, 19834459, 36007733, 14158259, 66535295]\n",
      "\n",
      "Community two:  [14749383, 44570946, 15439395, 90420314]\n",
      "\n",
      "Feature List of user of same community {14749383: [464, 588, 614, 618, 951, 1029], 44570946: [464, 465, 588, 614, 618, 673, 951, 1023, 1029], 15439395: [1107, 1116], 90420314: [291, 363, 465, 603, 610]}\n"
     ]
    }
   ],
   "source": [
    "user_feat_map = {}\n",
    "user_feat_file = open('data/userFeat.feat', mode='r', encoding=\"utf-8\")\n",
    "for rows in user_feat_file:\n",
    "    data = (rows.strip().split())\n",
    "    user_feat_map[data[0]] = data[1:]\n",
    "\n",
    "print('Community one: ',nodeList1)\n",
    "print('\\nCommunity two: ',nodeList2)\n",
    "\n",
    "# Since this network was similar to a community we couldn't get a distint distribution of the network. \n",
    "# Only four of the edge were spererated from the orignal one, we now find the homophily based on feature on that network\n",
    "\n",
    "userFeatureDic = {}\n",
    "for user in nodeList2:\n",
    "    userFeatureDic[user] =  [i for i, j in enumerate(user_feat_map[str(user)]) if j == '1']\n",
    "print('\\nFeature List of user of same community', userFeatureDic)"
   ]
  },
  {
   "cell_type": "markdown",
   "id": "6478a63a",
   "metadata": {},
   "source": [
    "# From the above data we can see that the user in a community do share some similar feature, this data may not be strong enough to support this, but since the original network was similar to a community we could see that users in that network are homophilous."
   ]
  }
 ],
 "metadata": {
  "kernelspec": {
   "display_name": "Python 3 (ipykernel)",
   "language": "python",
   "name": "python3"
  },
  "language_info": {
   "codemirror_mode": {
    "name": "ipython",
    "version": 3
   },
   "file_extension": ".py",
   "mimetype": "text/x-python",
   "name": "python",
   "nbconvert_exporter": "python",
   "pygments_lexer": "ipython3",
   "version": "3.9.13"
  }
 },
 "nbformat": 4,
 "nbformat_minor": 5
}
